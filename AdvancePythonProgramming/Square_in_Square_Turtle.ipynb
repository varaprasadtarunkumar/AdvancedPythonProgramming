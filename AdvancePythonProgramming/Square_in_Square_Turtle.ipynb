{
 "cells": [
  {
   "cell_type": "code",
   "execution_count": 1,
   "id": "7809b7db",
   "metadata": {},
   "outputs": [],
   "source": [
    "# Draw a square inside another square box using turtle module.\n",
    "import turtle"
   ]
  },
  {
   "cell_type": "code",
   "execution_count": 2,
   "id": "8ce5910b",
   "metadata": {},
   "outputs": [],
   "source": [
    "def draw_square(side_length):\n",
    "    for i in range(4):\n",
    "        turtle.forward(side_length)\n",
    "        turtle.left(90)"
   ]
  },
  {
   "cell_type": "code",
   "execution_count": 3,
   "id": "94cca231",
   "metadata": {},
   "outputs": [],
   "source": [
    "turtle.speed(2)\n",
    "turtle.pensize(2)"
   ]
  },
  {
   "cell_type": "code",
   "execution_count": 4,
   "id": "0ab5ee3b",
   "metadata": {},
   "outputs": [],
   "source": [
    "draw_square(200)"
   ]
  },
  {
   "cell_type": "code",
   "execution_count": 5,
   "id": "09e177c8",
   "metadata": {},
   "outputs": [],
   "source": [
    "turtle.penup()\n",
    "turtle.goto(50,50)\n",
    "turtle.pendown()"
   ]
  },
  {
   "cell_type": "code",
   "execution_count": 6,
   "id": "63cd8b78",
   "metadata": {},
   "outputs": [],
   "source": [
    "draw_square(100)"
   ]
  },
  {
   "cell_type": "code",
   "execution_count": 7,
   "id": "9ac53752",
   "metadata": {},
   "outputs": [],
   "source": [
    "turtle.exitonclick()"
   ]
  }
 ],
 "metadata": {
  "kernelspec": {
   "display_name": "Python 3 (ipykernel)",
   "language": "python",
   "name": "python3"
  },
  "language_info": {
   "codemirror_mode": {
    "name": "ipython",
    "version": 3
   },
   "file_extension": ".py",
   "mimetype": "text/x-python",
   "name": "python",
   "nbconvert_exporter": "python",
   "pygments_lexer": "ipython3",
   "version": "3.11.4"
  }
 },
 "nbformat": 4,
 "nbformat_minor": 5
}
