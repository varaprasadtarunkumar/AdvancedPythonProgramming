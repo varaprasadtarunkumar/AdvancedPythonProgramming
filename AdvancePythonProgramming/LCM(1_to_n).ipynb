{
 "cells": [
  {
   "cell_type": "code",
   "execution_count": 1,
   "id": "7207c55f",
   "metadata": {},
   "outputs": [],
   "source": [
    "#Write a python program to find the smallest multiple of the first n numbers. Also display the factors."
   ]
  },
  {
   "cell_type": "code",
   "execution_count": 2,
   "id": "9a73b418",
   "metadata": {},
   "outputs": [],
   "source": [
    "def gcd(a,b):\n",
    "    while b:\n",
    "        a,b=b,a%b\n",
    "    return a"
   ]
  },
  {
   "cell_type": "code",
   "execution_count": 3,
   "id": "8e1c8063",
   "metadata": {},
   "outputs": [],
   "source": [
    "def LCM(a,b):\n",
    "    return a*b//gcd(a,b)"
   ]
  },
  {
   "cell_type": "code",
   "execution_count": 4,
   "id": "b27908e5",
   "metadata": {},
   "outputs": [
    {
     "name": "stdout",
     "output_type": "stream",
     "text": [
      "Enter the number:6\n"
     ]
    }
   ],
   "source": [
    "#LCM of 1 to N numbers\n",
    "n =int(input(\"Enter the number:\"))\n",
    "smallest_multiple=1\n",
    "for i in range(2,n+1):\n",
    "    smallest_multiple = LCM(smallest_multiple,i)"
   ]
  },
  {
   "cell_type": "code",
   "execution_count": 5,
   "id": "6b7b053a",
   "metadata": {},
   "outputs": [],
   "source": [
    "# Factors of LCM of 1 to N\n",
    "factors = []\n",
    "for i in range(1,smallest_multiple):\n",
    "    if smallest_multiple%i==0:\n",
    "        factors.append(i)"
   ]
  },
  {
   "cell_type": "code",
   "execution_count": 7,
   "id": "8ab763ce",
   "metadata": {},
   "outputs": [
    {
     "name": "stdout",
     "output_type": "stream",
     "text": [
      "smallest_multiple from 1 to 6 is 60\n",
      "[1, 2, 3, 4, 5, 6, 10, 12, 15, 20, 30]\n"
     ]
    }
   ],
   "source": [
    "print(f\"smallest_multiple from 1 to {n} is {smallest_multiple}\")\n",
    "print(factors)"
   ]
  }
 ],
 "metadata": {
  "kernelspec": {
   "display_name": "Python 3 (ipykernel)",
   "language": "python",
   "name": "python3"
  },
  "language_info": {
   "codemirror_mode": {
    "name": "ipython",
    "version": 3
   },
   "file_extension": ".py",
   "mimetype": "text/x-python",
   "name": "python",
   "nbconvert_exporter": "python",
   "pygments_lexer": "ipython3",
   "version": "3.11.4"
  }
 },
 "nbformat": 4,
 "nbformat_minor": 5
}
