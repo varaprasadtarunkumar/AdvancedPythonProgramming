{
 "cells": [
  {
   "cell_type": "code",
   "execution_count": 2,
   "id": "b689206c",
   "metadata": {},
   "outputs": [],
   "source": [
    "# Write a python program to count the  number of Monday of the 1st day of the month from 2023 to 2027.\n",
    "from datetime import datetime,timedelta"
   ]
  },
  {
   "cell_type": "code",
   "execution_count": 3,
   "id": "ce256c4b",
   "metadata": {},
   "outputs": [],
   "source": [
    "def count_mondays(start_year,end_year):\n",
    "    count = 0\n",
    "    for year in range(start_year,end_year+1):\n",
    "        for month in range(1,13): \n",
    "            day = datetime(year,month,1) # first day of each month\n",
    "            if day.weekday() == 0: #if first day is Monday\n",
    "                count+=1\n",
    "    return count"
   ]
  },
  {
   "cell_type": "code",
   "execution_count": 4,
   "id": "04a26148",
   "metadata": {},
   "outputs": [
    {
     "name": "stdout",
     "output_type": "stream",
     "text": [
      "Enter the starting year2023\n",
      "Enter the ending year2027\n",
      "10\n"
     ]
    }
   ],
   "source": [
    "start_year = int(input(\"Enter the starting year\"))\n",
    "end_year = int(input(\"Enter the ending year\"))\n",
    "c = count_mondays(start_year,end_year)\n",
    "print(c)"
   ]
  }
 ],
 "metadata": {
  "kernelspec": {
   "display_name": "Python 3 (ipykernel)",
   "language": "python",
   "name": "python3"
  },
  "language_info": {
   "codemirror_mode": {
    "name": "ipython",
    "version": 3
   },
   "file_extension": ".py",
   "mimetype": "text/x-python",
   "name": "python",
   "nbconvert_exporter": "python",
   "pygments_lexer": "ipython3",
   "version": "3.11.4"
  }
 },
 "nbformat": 4,
 "nbformat_minor": 5
}
