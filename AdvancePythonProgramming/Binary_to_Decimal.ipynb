{
 "cells": [
  {
   "cell_type": "code",
   "execution_count": 1,
   "id": "6fec4015",
   "metadata": {},
   "outputs": [],
   "source": [
    "#Write a python program to find the smallest multiple of the first n numbers. Also display the factors."
   ]
  },
  {
   "cell_type": "code",
   "execution_count": 28,
   "id": "a454f773",
   "metadata": {},
   "outputs": [
    {
     "name": "stdout",
     "output_type": "stream",
     "text": [
      "Enter the binary number12309\n",
      "Please enter only in 0's and 1's \n"
     ]
    }
   ],
   "source": [
    "binary = input('Enter the binary number')\n",
    "if binary_check(binary):\n",
    "    decimal = 0\n",
    "    power =0\n",
    "    for i in reversed(binary):\n",
    "        decimal += int(i)*(2**power)\n",
    "        power+=1\n",
    "    print(decimal)\n",
    "else:\n",
    "    print(\"Please enter only in 0's and 1's \")"
   ]
  },
  {
   "cell_type": "code",
   "execution_count": 27,
   "id": "ccf63a3b",
   "metadata": {},
   "outputs": [],
   "source": [
    "# Checking if the input is binary or not\n",
    "def binary_check(binary_number):\n",
    "#     for i in binary_number:\n",
    "#         if i =='0' or i =='1':\n",
    "#             return True\n",
    "#     return False\n",
    "    if all(bit in '01' for bit in binary_number):\n",
    "        return True\n",
    "    return False"
   ]
  }
 ],
 "metadata": {
  "kernelspec": {
   "display_name": "Python 3 (ipykernel)",
   "language": "python",
   "name": "python3"
  },
  "language_info": {
   "codemirror_mode": {
    "name": "ipython",
    "version": 3
   },
   "file_extension": ".py",
   "mimetype": "text/x-python",
   "name": "python",
   "nbconvert_exporter": "python",
   "pygments_lexer": "ipython3",
   "version": "3.11.4"
  }
 },
 "nbformat": 4,
 "nbformat_minor": 5
}
