{
 "cells": [
  {
   "cell_type": "code",
   "execution_count": 1,
   "id": "23168d91",
   "metadata": {},
   "outputs": [],
   "source": [
    "import tkinter as tk"
   ]
  },
  {
   "cell_type": "code",
   "execution_count": 2,
   "id": "441739f5",
   "metadata": {},
   "outputs": [],
   "source": [
    "def show_selected():\n",
    "    selected_value.set(f\"Selected Option {selected_option.get()}\")"
   ]
  },
  {
   "cell_type": "code",
   "execution_count": 3,
   "id": "77ef5579",
   "metadata": {},
   "outputs": [
    {
     "data": {
      "text/plain": [
       "''"
      ]
     },
     "execution_count": 3,
     "metadata": {},
     "output_type": "execute_result"
    }
   ],
   "source": [
    "root = tk.Tk()\n",
    "root.title(\"Radio Button Example\")"
   ]
  },
  {
   "cell_type": "code",
   "execution_count": 4,
   "id": "713c3d8d",
   "metadata": {},
   "outputs": [],
   "source": [
    "selected_option = tk.IntVar()"
   ]
  },
  {
   "cell_type": "code",
   "execution_count": 5,
   "id": "3ce00177",
   "metadata": {},
   "outputs": [],
   "source": [
    "for option in range(1,5):\n",
    "    tk.Radiobutton(root,text=f\"Option {option}\", variable=selected_option,value=option,command=show_selected).pack()"
   ]
  },
  {
   "cell_type": "code",
   "execution_count": 6,
   "id": "fc747201",
   "metadata": {},
   "outputs": [],
   "source": [
    "selected_option.set(1)"
   ]
  },
  {
   "cell_type": "code",
   "execution_count": 7,
   "id": "4dc23a0a",
   "metadata": {},
   "outputs": [],
   "source": [
    "selected_value = tk.StringVar()\n",
    "tk.Label(root,textvariable=selected_value).pack()"
   ]
  },
  {
   "cell_type": "code",
   "execution_count": 9,
   "id": "982ac04f",
   "metadata": {},
   "outputs": [],
   "source": [
    "root.mainloop()"
   ]
  }
 ],
 "metadata": {
  "kernelspec": {
   "display_name": "Python 3 (ipykernel)",
   "language": "python",
   "name": "python3"
  },
  "language_info": {
   "codemirror_mode": {
    "name": "ipython",
    "version": 3
   },
   "file_extension": ".py",
   "mimetype": "text/x-python",
   "name": "python",
   "nbconvert_exporter": "python",
   "pygments_lexer": "ipython3",
   "version": "3.11.4"
  }
 },
 "nbformat": 4,
 "nbformat_minor": 5
}
