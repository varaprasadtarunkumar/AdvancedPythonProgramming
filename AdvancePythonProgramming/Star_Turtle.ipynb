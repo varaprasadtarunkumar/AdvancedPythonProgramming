{
 "cells": [
  {
   "cell_type": "code",
   "execution_count": 1,
   "id": "6cbb3cfe",
   "metadata": {},
   "outputs": [],
   "source": [
    "# Draw a star using turtle module in python.\n",
    "import turtle"
   ]
  },
  {
   "cell_type": "code",
   "execution_count": 2,
   "id": "3a7d3f09",
   "metadata": {},
   "outputs": [],
   "source": [
    "def draw_star(size):\n",
    "    for i in range(5):\n",
    "        turtle.forward(size)\n",
    "        turtle.right(144)"
   ]
  },
  {
   "cell_type": "code",
   "execution_count": 3,
   "id": "bc389642",
   "metadata": {},
   "outputs": [],
   "source": [
    "turtle.speed(2)\n",
    "turtle.pensize(2)"
   ]
  },
  {
   "cell_type": "code",
   "execution_count": 4,
   "id": "9e67d919",
   "metadata": {},
   "outputs": [],
   "source": [
    "draw_star(120)"
   ]
  },
  {
   "cell_type": "code",
   "execution_count": 5,
   "id": "8bfecfd1",
   "metadata": {},
   "outputs": [],
   "source": [
    "turtle.exitonclick()"
   ]
  }
 ],
 "metadata": {
  "kernelspec": {
   "display_name": "Python 3 (ipykernel)",
   "language": "python",
   "name": "python3"
  },
  "language_info": {
   "codemirror_mode": {
    "name": "ipython",
    "version": 3
   },
   "file_extension": ".py",
   "mimetype": "text/x-python",
   "name": "python",
   "nbconvert_exporter": "python",
   "pygments_lexer": "ipython3",
   "version": "3.11.4"
  }
 },
 "nbformat": 4,
 "nbformat_minor": 5
}
