{
 "cells": [
  {
   "cell_type": "code",
   "execution_count": 1,
   "id": "c9dc8931",
   "metadata": {},
   "outputs": [],
   "source": [
    "import tkinter as tk"
   ]
  },
  {
   "cell_type": "code",
   "execution_count": 2,
   "id": "227c441c",
   "metadata": {},
   "outputs": [],
   "source": [
    "def draw_Rectangle():\n",
    "    canvas.create_rectangle(100,250,100,250,fill=\"blue\",width=2)"
   ]
  },
  {
   "cell_type": "code",
   "execution_count": 3,
   "id": "b7d75d32",
   "metadata": {},
   "outputs": [],
   "source": [
    "root = tk.Tk()\n",
    "root.title(\"Canvas\")"
   ]
  },
  {
   "cell_type": "code",
   "execution_count": 4,
   "id": "ee026e61",
   "metadata": {},
   "outputs": [],
   "source": [
    "canvas = tk.Canvas(root,width=400,height=400)"
   ]
  },
  {
   "cell_type": "code",
   "execution_count": 5,
   "id": "3ee298d8",
   "metadata": {},
   "outputs": [],
   "source": [
    "canvas.pack()"
   ]
  },
  {
   "cell_type": "code",
   "execution_count": 6,
   "id": "9125d513",
   "metadata": {},
   "outputs": [],
   "source": [
    "rectangle_button = tk.Button(root,text=\"Drawing Rectangle\",command=draw_Rectangle).pack()"
   ]
  },
  {
   "cell_type": "code",
   "execution_count": 7,
   "id": "7b5b7450",
   "metadata": {},
   "outputs": [],
   "source": [
    "root.mainloop()"
   ]
  }
 ],
 "metadata": {
  "kernelspec": {
   "display_name": "Python 3 (ipykernel)",
   "language": "python",
   "name": "python3"
  },
  "language_info": {
   "codemirror_mode": {
    "name": "ipython",
    "version": 3
   },
   "file_extension": ".py",
   "mimetype": "text/x-python",
   "name": "python",
   "nbconvert_exporter": "python",
   "pygments_lexer": "ipython3",
   "version": "3.11.4"
  }
 },
 "nbformat": 4,
 "nbformat_minor": 5
}
